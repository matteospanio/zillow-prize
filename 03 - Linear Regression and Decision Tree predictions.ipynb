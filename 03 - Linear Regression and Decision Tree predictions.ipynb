{
 "cells": [
  {
   "cell_type": "markdown",
   "id": "2adb6c71",
   "metadata": {},
   "source": [
    "# Progetto di Data and Web mining\n",
    "\n",
    "Matteo Spanio, A.A. 2021/2022"
   ]
  },
  {
   "cell_type": "markdown",
   "id": "d330c826",
   "metadata": {},
   "source": [
    "# Modello lineare multivariato\n",
    "\n",
    "Verifichiamo l'ipotesi di linearità del modello\n",
    "\n",
    "## Globalmente"
   ]
  },
  {
   "cell_type": "code",
   "execution_count": 6,
   "id": "9fc62495",
   "metadata": {},
   "outputs": [],
   "source": [
    "import Zillow.data as zd\n",
    "from Zillow.transform import ZillowTransformer, ZillowEncoder\n",
    "import warnings\n",
    "warnings.filterwarnings(\"ignore\")\n",
    "\n",
    "df_train = zd.get_train_dataset()\n",
    "df_validation = zd.get_validation_dataset()\n",
    "\n",
    "preprocessor = ZillowTransformer()\n",
    "preprocessor.fit(df_train)\n",
    "\n",
    "df_train = preprocessor.transform(df_train)\n",
    "df_validation = preprocessor.transform(df_validation)\n",
    "\n",
    "# one hot encoding and column type transform\n",
    "encoder = ZillowEncoder()\n",
    "encoder.fit(df_train)\n",
    "\n",
    "df_train = encoder.transform(df_train)\n",
    "df_validation = encoder.transform(df_validation)"
   ]
  },
  {
   "cell_type": "code",
   "execution_count": 7,
   "id": "f1014a92",
   "metadata": {},
   "outputs": [],
   "source": [
    "X_train, y_train = zd.split_x_y(df_train)\n",
    "X_test, y_test = zd.split_x_y(df_validation)"
   ]
  },
  {
   "cell_type": "markdown",
   "id": "df72288a",
   "metadata": {},
   "source": [
    "La regressione lineare fornita da sklearn non ha molti parametri su cui fare tuning, proprio per questo vale comunque la pena vedere cosa suggerisce la grid search dal momento che non allunherà di molto i tempi di training"
   ]
  },
  {
   "cell_type": "code",
   "execution_count": 9,
   "id": "2df0e06a",
   "metadata": {
    "scrolled": false
   },
   "outputs": [
    {
     "data": {
      "text/html": [
       "<div>\n",
       "<style scoped>\n",
       "    .dataframe tbody tr th:only-of-type {\n",
       "        vertical-align: middle;\n",
       "    }\n",
       "\n",
       "    .dataframe tbody tr th {\n",
       "        vertical-align: top;\n",
       "    }\n",
       "\n",
       "    .dataframe thead th {\n",
       "        text-align: right;\n",
       "    }\n",
       "</style>\n",
       "<table border=\"1\" class=\"dataframe\">\n",
       "  <thead>\n",
       "    <tr style=\"text-align: right;\">\n",
       "      <th></th>\n",
       "      <th>mean_fit_time</th>\n",
       "      <th>std_fit_time</th>\n",
       "      <th>mean_score_time</th>\n",
       "      <th>std_score_time</th>\n",
       "      <th>param_fit_intercept</th>\n",
       "      <th>param_positive</th>\n",
       "      <th>params</th>\n",
       "      <th>split0_test_score</th>\n",
       "      <th>split1_test_score</th>\n",
       "      <th>split2_test_score</th>\n",
       "      <th>split3_test_score</th>\n",
       "      <th>split4_test_score</th>\n",
       "      <th>mean_test_score</th>\n",
       "      <th>std_test_score</th>\n",
       "      <th>rank_test_score</th>\n",
       "    </tr>\n",
       "  </thead>\n",
       "  <tbody>\n",
       "    <tr>\n",
       "      <th>0</th>\n",
       "      <td>0.827481</td>\n",
       "      <td>0.062989</td>\n",
       "      <td>0.009865</td>\n",
       "      <td>0.002583</td>\n",
       "      <td>True</td>\n",
       "      <td>False</td>\n",
       "      <td>{'fit_intercept': True, 'positive': False}</td>\n",
       "      <td>-0.068494</td>\n",
       "      <td>-0.069119</td>\n",
       "      <td>-0.068949</td>\n",
       "      <td>-0.069269</td>\n",
       "      <td>-0.067868</td>\n",
       "      <td>-0.068740</td>\n",
       "      <td>0.000508</td>\n",
       "      <td>4</td>\n",
       "    </tr>\n",
       "    <tr>\n",
       "      <th>1</th>\n",
       "      <td>2.223144</td>\n",
       "      <td>0.208857</td>\n",
       "      <td>0.006227</td>\n",
       "      <td>0.000823</td>\n",
       "      <td>True</td>\n",
       "      <td>True</td>\n",
       "      <td>{'fit_intercept': True, 'positive': True}</td>\n",
       "      <td>-0.068524</td>\n",
       "      <td>-0.069171</td>\n",
       "      <td>-0.068888</td>\n",
       "      <td>-0.069053</td>\n",
       "      <td>-0.067675</td>\n",
       "      <td>-0.068662</td>\n",
       "      <td>0.000540</td>\n",
       "      <td>2</td>\n",
       "    </tr>\n",
       "    <tr>\n",
       "      <th>2</th>\n",
       "      <td>0.659996</td>\n",
       "      <td>0.066740</td>\n",
       "      <td>0.007711</td>\n",
       "      <td>0.000554</td>\n",
       "      <td>False</td>\n",
       "      <td>False</td>\n",
       "      <td>{'fit_intercept': False, 'positive': False}</td>\n",
       "      <td>-0.068494</td>\n",
       "      <td>-0.069119</td>\n",
       "      <td>-0.068949</td>\n",
       "      <td>-0.069269</td>\n",
       "      <td>-0.067868</td>\n",
       "      <td>-0.068740</td>\n",
       "      <td>0.000508</td>\n",
       "      <td>3</td>\n",
       "    </tr>\n",
       "    <tr>\n",
       "      <th>3</th>\n",
       "      <td>1.307152</td>\n",
       "      <td>0.169273</td>\n",
       "      <td>0.003348</td>\n",
       "      <td>0.000803</td>\n",
       "      <td>False</td>\n",
       "      <td>True</td>\n",
       "      <td>{'fit_intercept': False, 'positive': True}</td>\n",
       "      <td>-0.068513</td>\n",
       "      <td>-0.069156</td>\n",
       "      <td>-0.068852</td>\n",
       "      <td>-0.069019</td>\n",
       "      <td>-0.067696</td>\n",
       "      <td>-0.068647</td>\n",
       "      <td>0.000522</td>\n",
       "      <td>1</td>\n",
       "    </tr>\n",
       "  </tbody>\n",
       "</table>\n",
       "</div>"
      ],
      "text/plain": [
       "   mean_fit_time  std_fit_time  mean_score_time  std_score_time  \\\n",
       "0       0.827481      0.062989         0.009865        0.002583   \n",
       "1       2.223144      0.208857         0.006227        0.000823   \n",
       "2       0.659996      0.066740         0.007711        0.000554   \n",
       "3       1.307152      0.169273         0.003348        0.000803   \n",
       "\n",
       "  param_fit_intercept param_positive  \\\n",
       "0                True          False   \n",
       "1                True           True   \n",
       "2               False          False   \n",
       "3               False           True   \n",
       "\n",
       "                                        params  split0_test_score  \\\n",
       "0   {'fit_intercept': True, 'positive': False}          -0.068494   \n",
       "1    {'fit_intercept': True, 'positive': True}          -0.068524   \n",
       "2  {'fit_intercept': False, 'positive': False}          -0.068494   \n",
       "3   {'fit_intercept': False, 'positive': True}          -0.068513   \n",
       "\n",
       "   split1_test_score  split2_test_score  split3_test_score  split4_test_score  \\\n",
       "0          -0.069119          -0.068949          -0.069269          -0.067868   \n",
       "1          -0.069171          -0.068888          -0.069053          -0.067675   \n",
       "2          -0.069119          -0.068949          -0.069269          -0.067868   \n",
       "3          -0.069156          -0.068852          -0.069019          -0.067696   \n",
       "\n",
       "   mean_test_score  std_test_score  rank_test_score  \n",
       "0        -0.068740        0.000508                4  \n",
       "1        -0.068662        0.000540                2  \n",
       "2        -0.068740        0.000508                3  \n",
       "3        -0.068647        0.000522                1  "
      ]
     },
     "execution_count": 9,
     "metadata": {},
     "output_type": "execute_result"
    }
   ],
   "source": [
    "from sklearn.linear_model import LinearRegression\n",
    "from sklearn.model_selection import GridSearchCV\n",
    "from Zillow.metrics import print_measure\n",
    "import pandas as pd\n",
    "\n",
    "lr = LinearRegression()\n",
    "\n",
    "params = {\n",
    "    'fit_intercept': [True, False],\n",
    "    'positive': [False, True]\n",
    "}\n",
    "\n",
    "gscv = GridSearchCV(estimator=lr,\n",
    "                    scoring='neg_mean_absolute_error',\n",
    "                    param_grid=params,\n",
    "                    cv=5,\n",
    "                    n_jobs=-1\n",
    "                   )\n",
    "\n",
    "gscv.fit(X_train, y_train)\n",
    "\n",
    "pd.DataFrame(gscv.cv_results_)"
   ]
  },
  {
   "cell_type": "code",
   "execution_count": 10,
   "id": "6da28cec",
   "metadata": {
    "scrolled": true
   },
   "outputs": [
    {
     "data": {
      "text/plain": [
       "{'fit_intercept': False, 'positive': True}"
      ]
     },
     "execution_count": 10,
     "metadata": {},
     "output_type": "execute_result"
    }
   ],
   "source": [
    "gscv.best_params_"
   ]
  },
  {
   "cell_type": "code",
   "execution_count": 11,
   "id": "e7888770",
   "metadata": {
    "scrolled": true
   },
   "outputs": [
    {
     "name": "stdout",
     "output_type": "stream",
     "text": [
      "Mean absolute error: 0.07094\n",
      " Mean squared error: 0.02999\n",
      "           R2 score: 0.00212\n"
     ]
    }
   ],
   "source": [
    "print_measure(y_true=y_test, y_pred=gscv.predict(X_test))"
   ]
  },
  {
   "cell_type": "markdown",
   "id": "336d47ef",
   "metadata": {},
   "source": [
    "Verifichiamo la performance sul dataset di test e allenando il modello su train e validation insieme"
   ]
  },
  {
   "cell_type": "code",
   "execution_count": 12,
   "id": "f1d72bc2",
   "metadata": {
    "scrolled": true
   },
   "outputs": [],
   "source": [
    "import pandas as pd\n",
    "\n",
    "train, validation, test = zd.get_preprocessed_data()\n",
    "train = pd.concat([train, validation], axis=0, ignore_index=True)\n",
    "\n",
    "X_train, y_train = zd.split_x_y(train)\n",
    "X_test, y_test = zd.split_x_y(test)"
   ]
  },
  {
   "cell_type": "code",
   "execution_count": 13,
   "id": "434a451f",
   "metadata": {},
   "outputs": [
    {
     "name": "stdout",
     "output_type": "stream",
     "text": [
      "Mean absolute error: 0.06987\n",
      " Mean squared error: 0.02851\n",
      "           R2 score: 0.00363\n"
     ]
    }
   ],
   "source": [
    "lr = LinearRegression(fit_intercept=False, positive=True)\n",
    "\n",
    "lr.fit(X_train, y_train)\n",
    "\n",
    "print_measure(y_true=y_test, y_pred=lr.predict(X_test))"
   ]
  },
  {
   "cell_type": "markdown",
   "id": "0c33b532",
   "metadata": {},
   "source": [
    "Questo modello ha restituito un *mean absolute error* leggermente migliore rispetto alla predizione basata sulla media ($0.06987 < 0.06998$), anche se si tratta di una significatività sulla quarta cifra decimale."
   ]
  },
  {
   "cell_type": "markdown",
   "id": "57b776bb",
   "metadata": {},
   "source": [
    "### Scaling data\n",
    "\n",
    "Vediamo se scalando i dati migliora qualcosa, dal momento che i dati non hanno una distribuzione normale utilizzo il minmaxscaler"
   ]
  },
  {
   "cell_type": "code",
   "execution_count": 14,
   "id": "7948045c",
   "metadata": {},
   "outputs": [],
   "source": [
    "train, validation, test = zd.get_preprocessed_data()\n",
    "train = pd.concat([train, validation], axis=0, ignore_index=True)\n",
    "\n",
    "X_train, y_train = zd.split_x_y(train)\n",
    "X_test, y_test = zd.split_x_y(test)"
   ]
  },
  {
   "cell_type": "code",
   "execution_count": 15,
   "id": "c686327b",
   "metadata": {},
   "outputs": [
    {
     "data": {
      "text/plain": [
       "{'fit_intercept': False, 'positive': True}"
      ]
     },
     "execution_count": 15,
     "metadata": {},
     "output_type": "execute_result"
    }
   ],
   "source": [
    "from sklearn.preprocessing import MinMaxScaler\n",
    "\n",
    "scaler = MinMaxScaler()\n",
    "\n",
    "scaler.fit(X_train)\n",
    "\n",
    "lr = LinearRegression()\n",
    "\n",
    "params = {\n",
    "    'fit_intercept': [True, False],\n",
    "    'positive': [False, True]\n",
    "}\n",
    "\n",
    "gscv = GridSearchCV(estimator=lr,\n",
    "                    scoring='neg_mean_absolute_error',\n",
    "                    param_grid=params,\n",
    "                    cv=5,\n",
    "                    n_jobs=-1\n",
    "                   )\n",
    "\n",
    "gscv.fit(scaler.transform( X_train ), y_train)\n",
    "gscv.best_params_"
   ]
  },
  {
   "cell_type": "code",
   "execution_count": 16,
   "id": "8a608c72",
   "metadata": {
    "scrolled": true
   },
   "outputs": [
    {
     "name": "stdout",
     "output_type": "stream",
     "text": [
      "Mean absolute error: 0.06987\n",
      " Mean squared error: 0.02853\n",
      "           R2 score: 0.00305\n"
     ]
    }
   ],
   "source": [
    "print_measure(y_true=y_test, y_pred=gscv.predict(scaler.transform( X_test )))"
   ]
  },
  {
   "cell_type": "markdown",
   "id": "16e71cfc",
   "metadata": {},
   "source": [
    "Il risultato rimane invariato."
   ]
  },
  {
   "cell_type": "markdown",
   "id": "4820905a",
   "metadata": {},
   "source": [
    "## Regressione lineare per county"
   ]
  },
  {
   "cell_type": "code",
   "execution_count": 17,
   "id": "ac1c966c",
   "metadata": {
    "scrolled": false
   },
   "outputs": [],
   "source": [
    "import Zillow.data as zd\n",
    "from Zillow.transform import ZillowTransformer, ZillowEncoder\n",
    "from Zillow.types import County, Features as ft\n",
    "\n",
    "import warnings\n",
    "warnings.filterwarnings(\"ignore\")\n",
    "# Orange\n",
    "o_train, o_validation, o_test = zd.get_preprocessed_data(County.ORANGE)\n",
    "\n",
    "# Ventura\n",
    "v_train, v_validation, v_test = zd.get_preprocessed_data(County.VENTURA)\n",
    "\n",
    "# Los Angeles\n",
    "la_train, la_validation, la_test = zd.get_preprocessed_data(County.LOS_ANGELES)"
   ]
  },
  {
   "cell_type": "code",
   "execution_count": 21,
   "id": "315aac25",
   "metadata": {},
   "outputs": [],
   "source": [
    "train = pd.concat([o_train, o_validation], axis=0, ignore_index=True)\n",
    "X_train_o, y_train_o = zd.split_x_y(train)\n",
    "X_test_o, y_test_o = zd.split_x_y(o_test)"
   ]
  },
  {
   "cell_type": "code",
   "execution_count": 22,
   "id": "5e5c7fac",
   "metadata": {},
   "outputs": [
    {
     "name": "stdout",
     "output_type": "stream",
     "text": [
      "Mean absolute error: 0.06256\n",
      " Mean squared error: 0.02420\n",
      "           R2 score: -0.00566\n"
     ]
    }
   ],
   "source": [
    "from sklearn.preprocessing import MinMaxScaler\n",
    "\n",
    "scaler = MinMaxScaler()\n",
    "\n",
    "scaler.fit(X_train_o)\n",
    "\n",
    "lr = LinearRegression(fit_intercept=False, positive=True)\n",
    "\n",
    "lr.fit( scaler.transform( X_train_o ), y_train_o)\n",
    "\n",
    "print_measure(y_true=y_test_o, y_pred=lr.predict(scaler.transform(X_test_o)))"
   ]
  },
  {
   "cell_type": "code",
   "execution_count": 23,
   "id": "2cccc1e1",
   "metadata": {},
   "outputs": [
    {
     "name": "stdout",
     "output_type": "stream",
     "text": [
      "Mean absolute error: 0.06104\n",
      " Mean squared error: 0.02844\n",
      "           R2 score: 0.00611\n"
     ]
    }
   ],
   "source": [
    "# Ventura\n",
    "train = pd.concat([v_train, v_validation], axis=0, ignore_index=True)\n",
    "X_train_v, y_train_v = zd.split_x_y(train)\n",
    "X_test_v, y_test_v = zd.split_x_y(v_test)\n",
    "\n",
    "scaler.fit(X_train_v)\n",
    "\n",
    "lr.fit( scaler.transform(X_train_v), y_train_v)\n",
    "\n",
    "print_measure(y_true=y_test_v, y_pred=lr.predict(scaler.transform(X_test_v)))"
   ]
  },
  {
   "cell_type": "code",
   "execution_count": 24,
   "id": "dfb22aa7",
   "metadata": {},
   "outputs": [
    {
     "name": "stdout",
     "output_type": "stream",
     "text": [
      "Mean absolute error: 0.07457\n",
      " Mean squared error: 0.02906\n",
      "           R2 score: 0.00288\n"
     ]
    }
   ],
   "source": [
    "# LA\n",
    "train = pd.concat([la_train, la_validation], axis=0, ignore_index=True)\n",
    "X_train_la, y_train_la = zd.split_x_y(train)\n",
    "X_test_la, y_test_la = zd.split_x_y(la_test)\n",
    "\n",
    "scaler.fit(X_train_la)\n",
    "\n",
    "lr.fit(scaler.transform( X_train_la ), y_train_la)\n",
    "\n",
    "print_measure(y_true=y_test_la, y_pred=lr.predict(scaler.transform( X_test_la )))"
   ]
  },
  {
   "cell_type": "code",
   "execution_count": 25,
   "id": "f441d42e",
   "metadata": {},
   "outputs": [
    {
     "data": {
      "text/plain": [
       "0.06605666666666667"
      ]
     },
     "execution_count": 25,
     "metadata": {},
     "output_type": "execute_result"
    }
   ],
   "source": [
    "import numpy as np\n",
    "np.mean([0.06256, 0.06104, 0.07457])"
   ]
  },
  {
   "cell_type": "markdown",
   "id": "fcb40e9c",
   "metadata": {},
   "source": [
    "La regressione lineare per contea performa meglio di quella generale con una significatività di 3 punti sulla terza cifra decimale, ma è un predittore peggiore della media ($0.06226 < 0.06614$)"
   ]
  },
  {
   "cell_type": "code",
   "execution_count": 36,
   "id": "47aff5d5",
   "metadata": {},
   "outputs": [
    {
     "data": {
      "text/plain": [
       "Text(0.5, 1.0, 'MAE per area with linear regressor')"
      ]
     },
     "execution_count": 36,
     "metadata": {},
     "output_type": "execute_result"
    },
    {
     "data": {
      "image/png": "[encoded data removed]",
      "text/plain": [
       "<Figure size 504x432 with 1 Axes>"
      ]
     },
     "metadata": {
      "needs_background": "light"
     },
     "output_type": "display_data"
    }
   ],
   "source": [
    "import pandas as pd\n",
    "import seaborn as sns\n",
    "import matplotlib.pyplot as plt\n",
    "%matplotlib inline\n",
    "\n",
    "fig, ax = plt.subplots(figsize=(7, 6))\n",
    "data = pd.DataFrame({'score': [0.06987, 0.06256, 0.06104, 0.07457], 'area': ['All', 'Orange', 'Ventura', 'LA']})\n",
    "sns.barplot(data=data, x='area', y='score', ax=ax)\n",
    "ax.set_ylim(0.060,0.075);\n",
    "ax.set_ylabel('mean absolute error')\n",
    "ax.hlines(0.06605666666666667, xmin=-0.4, xmax=3.25, colors='red', label='mean per county');\n",
    "ax.legend()\n",
    "ax.set_title('MAE per area with linear regressor')"
   ]
  },
  {
   "cell_type": "markdown",
   "id": "9b1f4f9a",
   "metadata": {},
   "source": [
    "# Albero di decisione\n",
    "\n",
    "Studiamo ora la capacità predittiva di un albero di decisione\n",
    "\n",
    "## Globalmente"
   ]
  },
  {
   "cell_type": "code",
   "execution_count": 26,
   "id": "ad602b82",
   "metadata": {},
   "outputs": [],
   "source": [
    "import Zillow.data as zd\n",
    "\n",
    "train, validation, test = zd.get_preprocessed_data()\n",
    "\n",
    "X_train, y_train = zd.split_x_y(train)\n",
    "X_validation, y_validation = zd.split_x_y(validation)"
   ]
  },
  {
   "cell_type": "markdown",
   "id": "d1a29718",
   "metadata": {},
   "source": [
    "In questo caso si può cercare di trovare i parametri ottimi per l'albero di decisione, per risparmiare un po' di tempo di calcolo il tuning verrà effettuato sul $40\\%$ del dataset di train"
   ]
  },
  {
   "cell_type": "code",
   "execution_count": 27,
   "id": "83e4c46c",
   "metadata": {},
   "outputs": [
    {
     "data": {
      "text/plain": [
       "(42972, 42972)"
      ]
     },
     "execution_count": 27,
     "metadata": {},
     "output_type": "execute_result"
    }
   ],
   "source": [
    "from sklearn.model_selection import train_test_split\n",
    "\n",
    "X_small, _, y_small, _ = train_test_split(X_train, y_train, train_size=0.4, random_state=42)\n",
    "\n",
    "len(X_small), len(y_small)"
   ]
  },
  {
   "cell_type": "code",
   "execution_count": 35,
   "id": "6d4087cc",
   "metadata": {
    "scrolled": true
   },
   "outputs": [
    {
     "name": "stdout",
     "output_type": "stream",
     "text": [
      "Fitting 4 folds for each of 4752 candidates, totalling 19008 fits\n",
      "CPU times: user 33.5 s, sys: 7.35 s, total: 40.9 s\n",
      "Wall time: 21min 20s\n"
     ]
    },
    {
     "data": {
      "text/plain": [
       "{'criterion': 'squared_error',\n",
       " 'max_features': 1.0,\n",
       " 'max_leaf_nodes': 9,\n",
       " 'min_samples_leaf': 10,\n",
       " 'min_samples_split': 2,\n",
       " 'splitter': 'random'}"
      ]
     },
     "execution_count": 35,
     "metadata": {},
     "output_type": "execute_result"
    }
   ],
   "source": [
    "%%time\n",
    "from sklearn.tree import DecisionTreeRegressor\n",
    "from sklearn.model_selection import GridSearchCV\n",
    "\n",
    "lr = DecisionTreeRegressor()\n",
    "\n",
    "params = {\n",
    "    'criterion': ['squared_error'], # 'absolute_error'],\n",
    "    'splitter': ['random', 'best'],\n",
    "    'min_samples_split': [2, 5, 10],\n",
    "    'min_samples_leaf': [1, 2, 5, 10],\n",
    "    'max_leaf_nodes': [x for x in range(2, 101)],\n",
    "    'max_features': ['sqrt', 1.0]\n",
    "}\n",
    "\n",
    "gscv = GridSearchCV(estimator=lr,\n",
    "                    return_train_score=True,\n",
    "                    scoring='neg_mean_absolute_error',\n",
    "                    param_grid=params,\n",
    "                    cv=4,\n",
    "                    verbose=1,\n",
    "                    n_jobs=-1,\n",
    "                   )\n",
    "\n",
    "gscv.fit(X_train, y_train)\n",
    "\n",
    "gscv.best_params_"
   ]
  },
  {
   "cell_type": "markdown",
   "id": "c929a6c3",
   "metadata": {},
   "source": [
    "Ovviamente il modello performa meglio con un numero basso di foglie: all'aumentare del numero di foglie il modello dovrebbe specializzarsi sempre più, andando in overfitting"
   ]
  },
  {
   "cell_type": "code",
   "execution_count": 46,
   "id": "1b005dd0",
   "metadata": {},
   "outputs": [
    {
     "data": {
      "image/png": "[encoded data removed]",
      "text/plain": [
       "<Figure size 432x288 with 1 Axes>"
      ]
     },
     "metadata": {
      "needs_background": "light"
     },
     "output_type": "display_data"
    }
   ],
   "source": [
    "import Zillow.visualization as zv\n",
    "\n",
    "zv.plot_grid_search_validation_curve(gscv, 'max_leaf_nodes', ylim=(-.0715,-.068))"
   ]
  },
  {
   "cell_type": "code",
   "execution_count": 37,
   "id": "99e9389b",
   "metadata": {
    "scrolled": true
   },
   "outputs": [
    {
     "name": "stdout",
     "output_type": "stream",
     "text": [
      "Mean absolute error: 0.07089\n",
      " Mean squared error: 0.02983\n",
      "           R2 score: 0.00772\n"
     ]
    }
   ],
   "source": [
    "from Zillow.metrics import print_measure\n",
    "print_measure(y_true=y_validation, y_pred=gscv.predict(X_validation))"
   ]
  },
  {
   "cell_type": "markdown",
   "id": "05330b82",
   "metadata": {},
   "source": [
    "Verifichiamo la performance allenando il modello sull'intero dataset"
   ]
  },
  {
   "cell_type": "code",
   "execution_count": 6,
   "id": "6481f837",
   "metadata": {},
   "outputs": [
    {
     "name": "stdout",
     "output_type": "stream",
     "text": [
      "Mean absolute error: 0.07002\n",
      " Mean squared error: 0.02856\n",
      "           R2 score: 0.00174\n"
     ]
    }
   ],
   "source": [
    "from Zillow.metrics import measure_model, print_measure\n",
    "\n",
    "train, validation, test = zd.get_preprocessed_data()\n",
    "train = pd.concat([train, validation], axis=0, ignore_index=True)\n",
    "\n",
    "X_train, y_train = zd.split_x_y(train)\n",
    "X_test, y_test = zd.split_x_y(test)\n",
    "\n",
    "errors = []\n",
    "\n",
    "regressor = DecisionTreeRegressor(splitter='random',\n",
    "                           min_samples_split=2,\n",
    "                           min_samples_leaf=10,\n",
    "                           max_leaf_nodes=9,\n",
    "                           max_features=1.,\n",
    "                           random_state=42)\n",
    "\n",
    "regressor.fit(X_train, y_train)\n",
    "errors.append(measure_model(y_true=y_test, y_pred=regressor.predict(X_test)))\n",
    "print_measure(y_true=y_test, y_pred=regressor.predict(X_test))"
   ]
  },
  {
   "cell_type": "code",
   "execution_count": 9,
   "id": "d9626780",
   "metadata": {},
   "outputs": [
    {
     "name": "stdout",
     "output_type": "stream",
     "text": [
      "CPU times: user 64 ms, sys: 4.02 ms, total: 68 ms\n",
      "Wall time: 64.1 ms\n"
     ]
    },
    {
     "data": {
      "text/plain": [
       "[Text(0.6923076923076923, 0.9375, 'bathroomcnt <= 3.5709377\\nsquared_error = 0.0271391\\nsamples = 134287\\nvalue = 0.0135875'),\n",
       " Text(0.5384615384615384, 0.8125, 'structuretaxvaluedollarcnt <= 2121076.6391448\\nsquared_error = 0.0254296\\nsamples = 124095\\nvalue = 0.0122914'),\n",
       " Text(0.46153846153846156, 0.6875, 'structuretaxvaluedollarcnt_was_nan <= 0.2024705\\nsquared_error = 0.0252001\\nsamples = 124077\\nvalue = 0.0122275'),\n",
       " Text(0.38461538461538464, 0.5625, 'taxdelinquencyflag <= 0.8063771\\nsquared_error = 0.0250518\\nsamples = 123706\\nvalue = 0.0123871'),\n",
       " Text(0.3076923076923077, 0.4375, 'calculatedfinishedsquarefeet <= 2648.6824657\\nsquared_error = 0.0245417\\nsamples = 120280\\nvalue = 0.0119145'),\n",
       " Text(0.23076923076923078, 0.3125, 'calculatedfinishedsquarefeet <= 407.1958592\\nsquared_error = 0.0235418\\nsamples = 111329\\nvalue = 0.010983'),\n",
       " Text(0.15384615384615385, 0.1875, 'x1_Thursday <= 0.952642\\nsquared_error = 0.3116536\\nsamples = 84\\nvalue = 0.1649495'),\n",
       " Text(0.07692307692307693, 0.0625, 'squared_error = 0.1684498\\nsamples = 71\\nvalue = 0.1070684'),\n",
       " Text(0.23076923076923078, 0.0625, 'squared_error = 0.9755373\\nsamples = 13\\nvalue = 0.4810692'),\n",
       " Text(0.3076923076923077, 0.1875, 'squared_error = 0.0233063\\nsamples = 111245\\nvalue = 0.0108668'),\n",
       " Text(0.38461538461538464, 0.3125, 'squared_error = 0.0368335\\nsamples = 8951\\nvalue = 0.0234998'),\n",
       " Text(0.46153846153846156, 0.4375, 'squared_error = 0.0426781\\nsamples = 3426\\nvalue = 0.0289797'),\n",
       " Text(0.5384615384615384, 0.5625, 'squared_error = 0.0718113\\nsamples = 371\\nvalue = -0.0409861'),\n",
       " Text(0.6153846153846154, 0.6875, 'squared_error = 1.4132646\\nsamples = 18\\nvalue = 0.452452'),\n",
       " Text(0.8461538461538461, 0.8125, 'taxamount <= 100507.2865666\\nsquared_error = 0.0476845\\nsamples = 10192\\nvalue = 0.0293681'),\n",
       " Text(0.7692307692307693, 0.6875, 'squared_error = 0.0471549\\nsamples = 10119\\nvalue = 0.0302247'),\n",
       " Text(0.9230769230769231, 0.6875, 'squared_error = 0.1068929\\nsamples = 73\\nvalue = -0.0893685')]"
      ]
     },
     "execution_count": 9,
     "metadata": {},
     "output_type": "execute_result"
    },
    {
     "data": {
      "image/png": "[encoded data removed]",
      "text/plain": [
       "<Figure size 1440x720 with 1 Axes>"
      ]
     },
     "metadata": {
      "needs_background": "light"
     },
     "output_type": "display_data"
    }
   ],
   "source": [
    "%%time\n",
    "from sklearn.tree import plot_tree\n",
    "import matplotlib.pyplot as plt\n",
    "%matplotlib inline\n",
    "\n",
    "fig, ax = plt.subplots(figsize=(20,10))\n",
    "plot_tree(regressor, ax=ax,\n",
    "          precision=7,\n",
    "          feature_names=X_train.columns.to_list(),\n",
    "          filled=True, rounded=True);"
   ]
  },
  {
   "cell_type": "markdown",
   "id": "c06b7bdc",
   "metadata": {},
   "source": [
    "## Albero di decisione per contea\n",
    "\n",
    "Si assume che l'ottimo trovato con il GridSearch per il modello generico sia lo stesso per le tre county (che in realtà hanno feature diverse, sarebbe quindi utile rieseguire una ricerca dei parametri ottimali)"
   ]
  },
  {
   "cell_type": "code",
   "execution_count": 10,
   "id": "13bc2fca",
   "metadata": {},
   "outputs": [],
   "source": [
    "import Zillow.data as zd\n",
    "from Zillow.transform import ZillowTransformer, ZillowEncoder\n",
    "from Zillow.types import County, Features as ft\n",
    "\n",
    "import warnings\n",
    "warnings.filterwarnings(\"ignore\")\n",
    "# Orange\n",
    "o_train, o_validation, o_test = zd.get_preprocessed_data(County.ORANGE)\n",
    "\n",
    "# Ventura\n",
    "v_train, v_validation, v_test = zd.get_preprocessed_data(County.VENTURA)\n",
    "\n",
    "# Los Angeles\n",
    "la_train, la_validation, la_test = zd.get_preprocessed_data(County.LOS_ANGELES)"
   ]
  },
  {
   "cell_type": "code",
   "execution_count": 12,
   "id": "eeb0c6d2",
   "metadata": {},
   "outputs": [],
   "source": [
    "train = pd.concat([o_train, o_validation], axis=0, ignore_index=True)\n",
    "X_train_o, y_train_o = zd.split_x_y(train)\n",
    "X_test_o, y_test_o = zd.split_x_y(o_test)"
   ]
  },
  {
   "cell_type": "code",
   "execution_count": 13,
   "id": "70401a92",
   "metadata": {},
   "outputs": [
    {
     "name": "stdout",
     "output_type": "stream",
     "text": [
      "Orange\n",
      "Mean absolute error: 0.06262\n",
      " Mean squared error: 0.02425\n",
      "           R2 score: -0.00756\n"
     ]
    }
   ],
   "source": [
    "from sklearn.tree import DecisionTreeRegressor\n",
    "from Zillow.metrics import measure_model\n",
    "\n",
    "regressor = DecisionTreeRegressor(splitter='random',\n",
    "                           min_samples_split=2,\n",
    "                           min_samples_leaf=10,\n",
    "                           max_leaf_nodes=9,\n",
    "                           max_features=1.,\n",
    "                           random_state=42)\n",
    "\n",
    "train = pd.concat([o_train, o_validation], axis=0, ignore_index=True)\n",
    "X_train_o, y_train_o = zd.split_x_y(train)\n",
    "\n",
    "regressor.fit( X_train_o, y_train_o)\n",
    "print('Orange')\n",
    "errors.append(measure_model(y_true=y_test_o, y_pred=regressor.predict(X_test_o)))\n",
    "print_measure(y_true=y_test_o, y_pred=regressor.predict(X_test_o))"
   ]
  },
  {
   "cell_type": "code",
   "execution_count": 14,
   "id": "77b7b9e2",
   "metadata": {},
   "outputs": [
    {
     "name": "stdout",
     "output_type": "stream",
     "text": [
      "Ventura\n",
      "Mean absolute error: 0.06101\n",
      " Mean squared error: 0.02852\n",
      "           R2 score: 0.00333\n"
     ]
    }
   ],
   "source": [
    "# Ventura\n",
    "train = pd.concat([v_train, v_validation], axis=0, ignore_index=True)\n",
    "X_train_v, y_train_v = zd.split_x_y(train)\n",
    "X_test_v, y_test_v = zd.split_x_y(v_test)\n",
    "\n",
    "regressor.fit( X_train_v, y_train_v)\n",
    "print('Ventura')\n",
    "errors.append(measure_model(y_true=y_test_v, y_pred=regressor.predict(X_test_v)))\n",
    "print_measure(y_true=y_test_v, y_pred=regressor.predict(X_test_v))"
   ]
  },
  {
   "cell_type": "code",
   "execution_count": 15,
   "id": "a028f5ba",
   "metadata": {},
   "outputs": [
    {
     "name": "stdout",
     "output_type": "stream",
     "text": [
      "LA\n",
      "Mean absolute error: 0.07475\n",
      " Mean squared error: 0.02904\n",
      "           R2 score: 0.00361\n"
     ]
    }
   ],
   "source": [
    "# LA\n",
    "train = pd.concat([la_train, la_validation], axis=0, ignore_index=True)\n",
    "X_train_la, y_train_la = zd.split_x_y(train)\n",
    "X_test_la, y_test_la = zd.split_x_y(la_test)\n",
    "\n",
    "regressor.fit( X_train_la, y_train_la)\n",
    "print('LA')\n",
    "errors.append(measure_model(y_true=y_test_la, y_pred=regressor.predict(X_test_la)))\n",
    "print_measure(y_true=y_test_la, y_pred=regressor.predict(X_test_la))"
   ]
  },
  {
   "cell_type": "code",
   "execution_count": 17,
   "id": "7b912f8d",
   "metadata": {
    "scrolled": true
   },
   "outputs": [
    {
     "data": {
      "text/plain": [
       "0.06709834316780826"
      ]
     },
     "execution_count": 17,
     "metadata": {},
     "output_type": "execute_result"
    }
   ],
   "source": [
    "import numpy as np\n",
    "np.mean([e[0] for e in errors])"
   ]
  },
  {
   "cell_type": "code",
   "execution_count": 35,
   "id": "b81d4f8c",
   "metadata": {},
   "outputs": [
    {
     "data": {
      "text/plain": [
       "Text(0.5, 1.0, 'MAE per area with dicision tree')"
      ]
     },
     "execution_count": 35,
     "metadata": {},
     "output_type": "execute_result"
    },
    {
     "data": {
      "image/png": "[encoded data removed]",
      "text/plain": [
       "<Figure size 504x432 with 1 Axes>"
      ]
     },
     "metadata": {
      "needs_background": "light"
     },
     "output_type": "display_data"
    }
   ],
   "source": [
    "fig, ax = plt.subplots(figsize=(7, 6))\n",
    "data = pd.DataFrame({'score': [0.07002, 0.06262, 0.06101, 0.07475], 'area': ['All', 'Orange', 'Ventura', 'LA']})\n",
    "sns.barplot(data=data, x='area', y='score', ax=ax)\n",
    "ax.set_ylim(0.060,0.075);\n",
    "ax.set_ylabel('mean absolute error')\n",
    "ax.hlines(0.06709834316780826, xmin=-0.4, xmax=3.25, colors='red', label='mean per county');\n",
    "ax.legend()\n",
    "ax.set_title('MAE per area with dicision tree')"
   ]
  }
 ],
 "metadata": {
  "kernelspec": {
   "display_name": "Python 3 (ipykernel)",
   "language": "python",
   "name": "python3"
  },
  "language_info": {
   "codemirror_mode": {
    "name": "ipython",
    "version": 3
   },
   "file_extension": ".py",
   "mimetype": "text/x-python",
   "name": "python",
   "nbconvert_exporter": "python",
   "pygments_lexer": "ipython3",
   "version": "3.9.12"
  }
 },
 "nbformat": 4,
 "nbformat_minor": 5
}
