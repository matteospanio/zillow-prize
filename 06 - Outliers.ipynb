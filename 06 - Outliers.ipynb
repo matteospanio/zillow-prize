{
 "cells": [
  {
   "cell_type": "code",
   "execution_count": 30,
   "id": "b2a385ab",
   "metadata": {},
   "outputs": [],
   "source": [
    "import Zillow.data as zd\n",
    "import warnings\n",
    "warnings.filterwarnings(\"ignore\")\n",
    "\n",
    "train, validation, test = zd.get_preprocessed_data()"
   ]
  },
  {
   "cell_type": "code",
   "execution_count": 31,
   "id": "447d3027",
   "metadata": {},
   "outputs": [],
   "source": [
    "LIMIT = 1\n",
    "\n",
    "train_no_outliers = train[abs(train['logerror']) <= LIMIT]\n",
    "validation_no_outliers = validation[abs(validation['logerror']) <= LIMIT]\n",
    "test_no_outliers = test[abs(test['logerror']) <= LIMIT]"
   ]
  },
  {
   "cell_type": "code",
   "execution_count": 32,
   "id": "8c4148e5",
   "metadata": {},
   "outputs": [],
   "source": [
    "X_train, y_train = zd.split_x_y(train_no_outliers)\n",
    "X_validation, y_validation = zd.split_x_y(validation_no_outliers)\n",
    "X_test, y_test = zd.split_x_y(test_no_outliers)"
   ]
  },
  {
   "cell_type": "code",
   "execution_count": 33,
   "id": "5db9299f",
   "metadata": {},
   "outputs": [
    {
     "name": "stdout",
     "output_type": "stream",
     "text": [
      "Mean absolute error: 0.06286\n",
      " Mean squared error: 0.01339\n",
      "           R2 score: -0.00000\n"
     ]
    }
   ],
   "source": [
    "from Zillow.models import BaseModel\n",
    "from Zillow.metrics import print_measure\n",
    "\n",
    "model = BaseModel()\n",
    "\n",
    "model.fit(X_train, y_train)\n",
    "\n",
    "print_measure(y_true=y_validation, y_pred=model.predict(X_validation))"
   ]
  },
  {
   "cell_type": "code",
   "execution_count": 34,
   "id": "db5f22fa",
   "metadata": {},
   "outputs": [],
   "source": [
    "drop_list = [\n",
    "    'finishedsquarefeet12',\n",
    "    'finishedsquarefeet12_was_nan',\n",
    "    'taxamount',\n",
    "    'taxamount_was_nan',\n",
    "    'landtaxvaluedollarcnt',\n",
    "    'landtaxvaluedollarcnt_was_nan',\n",
    "    'taxdelinquencyflag',\n",
    "    'x2_Mobile Home', 'x2_Manufactured, Modular, Prefabricated Homes',\n",
    "       'x2_Cooperative', 'x2_Residential General',\n",
    "       'x2_Commercial/Office/Residential mix', 'x2_Townhouse',\n",
    "       'taxvaluedollarcnt_was_nan'\n",
    "]\n",
    "\n",
    "X_train = X_train.drop(drop_list, axis=1)\n",
    "X_validation = X_validation.drop(drop_list, axis=1)\n",
    "X_test = X_test.drop(drop_list, axis=1)"
   ]
  },
  {
   "cell_type": "code",
   "execution_count": 35,
   "id": "904b36dc",
   "metadata": {},
   "outputs": [
    {
     "name": "stdout",
     "output_type": "stream",
     "text": [
      "Mean absolute error: 0.06183\n",
      " Mean squared error: 0.01260\n",
      "           R2 score: 0.00784\n"
     ]
    }
   ],
   "source": [
    "from sklearn.linear_model import LinearRegression\n",
    "\n",
    "model = LinearRegression()\n",
    "\n",
    "model.fit(X_train, y_train)\n",
    "\n",
    "y_pred = model.predict(X_test)\n",
    "\n",
    "print_measure(y_true=y_test, y_pred=y_pred)"
   ]
  },
  {
   "cell_type": "code",
   "execution_count": 47,
   "id": "bc285c41",
   "metadata": {},
   "outputs": [
    {
     "name": "stdout",
     "output_type": "stream",
     "text": [
      "Mean absolute error: 0.06162\n",
      " Mean squared error: 0.01254\n",
      "           R2 score: 0.01256\n"
     ]
    }
   ],
   "source": [
    "from sklearn.ensemble import RandomForestRegressor\n",
    "\n",
    "model = RandomForestRegressor(n_jobs=-1,\n",
    "                           max_features='log2',\n",
    "                           min_samples_leaf=100,\n",
    "                           min_samples_split=5,\n",
    "                           n_estimators=700,\n",
    "                           random_state=42)\n",
    "\n",
    "model.fit(X_train, y_train)\n",
    "\n",
    "y_pred = model.predict(X_test)\n",
    "\n",
    "print_measure(y_true=y_test, y_pred=y_pred)"
   ]
  },
  {
   "cell_type": "code",
   "execution_count": 69,
   "id": "f063da56",
   "metadata": {},
   "outputs": [],
   "source": [
    "import Zillow.data as zd\n",
    "from Zillow.transform import ZillowTransformer, ZillowEncoder\n",
    "from Zillow.types import County, Features as ft\n",
    "\n",
    "import warnings\n",
    "warnings.filterwarnings(\"ignore\")\n",
    "# Orange\n",
    "o_train, o_validation, o_test = zd.get_preprocessed_data(County.ORANGE)\n",
    "\n",
    "# Ventura\n",
    "v_train, v_validation, v_test = zd.get_preprocessed_data(County.VENTURA)\n",
    "\n",
    "# Los Angeles\n",
    "la_train, la_validation, la_test = zd.get_preprocessed_data(County.LOS_ANGELES)"
   ]
  },
  {
   "cell_type": "code",
   "execution_count": 70,
   "id": "9d236103",
   "metadata": {},
   "outputs": [],
   "source": [
    "o_train = o_train[abs(o_train['logerror']) <= LIMIT]\n",
    "o_validation = o_validation[abs(o_validation['logerror']) <= LIMIT]\n",
    "o_test = o_test[abs(o_test['logerror']) <= LIMIT]\n",
    "\n",
    "v_train = v_train[abs(v_train['logerror']) <= LIMIT]\n",
    "v_validation = v_validation[abs(v_validation['logerror']) <= LIMIT]\n",
    "v_test = v_test[abs(v_test['logerror']) <= LIMIT]\n",
    "\n",
    "la_train = la_train[abs(la_train['logerror']) <= LIMIT]\n",
    "la_validation = la_validation[abs(la_validation['logerror']) <= LIMIT]\n",
    "la_test = la_test[abs(la_test['logerror']) <= LIMIT]"
   ]
  },
  {
   "cell_type": "code",
   "execution_count": 71,
   "id": "f1661f91",
   "metadata": {},
   "outputs": [],
   "source": [
    "drop_list = [\n",
    "    'finishedsquarefeet12',\n",
    "    'finishedsquarefeet12_was_nan',\n",
    "    'taxamount',\n",
    "    'taxamount_was_nan',\n",
    "    'landtaxvaluedollarcnt',\n",
    "    'landtaxvaluedollarcnt_was_nan',\n",
    "    'taxdelinquencyflag',\n",
    "    'taxvaluedollarcnt_was_nan',\n",
    "]"
   ]
  },
  {
   "cell_type": "code",
   "execution_count": 72,
   "id": "47e2968c",
   "metadata": {},
   "outputs": [
    {
     "name": "stdout",
     "output_type": "stream",
     "text": [
      "Mean absolute error: 0.05396\n",
      " Mean squared error: 0.00918\n",
      "           R2 score: 0.01135\n"
     ]
    }
   ],
   "source": [
    "import pandas as pd\n",
    "\n",
    "train = pd.concat([o_train, o_validation], axis=0, ignore_index=True)\n",
    "X_train_o, y_train_o = zd.split_x_y(train)\n",
    "X_test_o, y_test_o = zd.split_x_y(o_test)\n",
    "\n",
    "X_train_o = X_train_o.drop(drop_list, axis=1)\n",
    "X_test_o = X_test_o.drop(drop_list, axis=1)\n",
    "\n",
    "feature_selector = RandomForestRegressor(n_jobs=-1,\n",
    "                           max_features='log2',\n",
    "                           min_samples_leaf=100,\n",
    "                           min_samples_split=5,\n",
    "                           n_estimators=700,\n",
    "                           random_state=42)\n",
    "\n",
    "feature_selector.fit(X_train_o, y_train_o)\n",
    "\n",
    "y_pred = feature_selector.predict(X_test_o)\n",
    "\n",
    "print_measure(y_true=y_test_o, y_pred=y_pred)"
   ]
  },
  {
   "cell_type": "code",
   "execution_count": 73,
   "id": "30b3caef",
   "metadata": {},
   "outputs": [
    {
     "name": "stdout",
     "output_type": "stream",
     "text": [
      "Mean absolute error: 0.05091\n",
      " Mean squared error: 0.00922\n",
      "           R2 score: 0.01168\n"
     ]
    }
   ],
   "source": [
    "train = pd.concat([v_train, v_validation], axis=0, ignore_index=True)\n",
    "X_train_v, y_train_v = zd.split_x_y(train)\n",
    "X_test_v, y_test_v = zd.split_x_y(v_test)\n",
    "\n",
    "X_train_v = X_train_v.drop(drop_list, axis=1)\n",
    "X_test_v = X_test_v.drop(drop_list, axis=1)\n",
    "\n",
    "feature_selector = RandomForestRegressor(n_jobs=-1,\n",
    "                           max_features='log2',\n",
    "                           min_samples_leaf=100,\n",
    "                           min_samples_split=5,\n",
    "                           n_estimators=700,\n",
    "                           random_state=42)\n",
    "\n",
    "feature_selector.fit(X_train_v, y_train_v)\n",
    "\n",
    "y_pred = feature_selector.predict(X_test_v)\n",
    "\n",
    "print_measure(y_true=y_test_v, y_pred=y_pred)"
   ]
  },
  {
   "cell_type": "code",
   "execution_count": 74,
   "id": "13b47946",
   "metadata": {},
   "outputs": [
    {
     "name": "stdout",
     "output_type": "stream",
     "text": [
      "Mean absolute error: 0.06701\n",
      " Mean squared error: 0.01432\n",
      "           R2 score: 0.01232\n"
     ]
    }
   ],
   "source": [
    "train = pd.concat([la_train, la_validation], axis=0, ignore_index=True)\n",
    "X_train_la, y_train_la = zd.split_x_y(train)\n",
    "X_test_la, y_test_la = zd.split_x_y(la_test)\n",
    "\n",
    "X_train_la = X_train_la.drop(drop_list, axis=1)\n",
    "X_test_la = X_test_la.drop(drop_list, axis=1)\n",
    "\n",
    "feature_selector = RandomForestRegressor(n_jobs=-1,\n",
    "                           max_features='log2',\n",
    "                           min_samples_leaf=100,\n",
    "                           min_samples_split=5,\n",
    "                           n_estimators=700,\n",
    "                           random_state=42)\n",
    "\n",
    "feature_selector.fit(X_train_la, y_train_la)\n",
    "\n",
    "y_pred = feature_selector.predict(X_test_la)\n",
    "\n",
    "print_measure(y_true=y_test_la, y_pred=y_pred)"
   ]
  },
  {
   "cell_type": "code",
   "execution_count": 76,
   "id": "d377da7e",
   "metadata": {},
   "outputs": [
    {
     "data": {
      "text/plain": [
       "Text(0.5, 1.0, 'MAE per area with random forest')"
      ]
     },
     "execution_count": 76,
     "metadata": {},
     "output_type": "execute_result"
    },
    {
     "data": {
      "image/png": "[encoded data removed]",
      "text/plain": [
       "<Figure size 504x432 with 1 Axes>"
      ]
     },
     "metadata": {
      "needs_background": "light"
     },
     "output_type": "display_data"
    }
   ],
   "source": [
    "import pandas as pd\n",
    "import seaborn as sns\n",
    "import matplotlib.pyplot as plt\n",
    "%matplotlib inline\n",
    "\n",
    "fig, ax = plt.subplots(figsize=(7, 6))\n",
    "data = pd.DataFrame({'score': [0.06183, 0.05396, 0.05091, 0.06701], 'area': ['All', 'Orange', 'Ventura', 'LA']})\n",
    "sns.barplot(data=data, x='area', y='score', ax=ax)\n",
    "ax.set_ylim(0.050,0.069);\n",
    "ax.set_ylabel('mean absolute error')\n",
    "ax.hlines(np.mean([0.05396, 0.05091, 0.06701]), xmin=-0.4, xmax=3.25, colors='red', label='mean per county');\n",
    "ax.legend()\n",
    "ax.set_title('MAE per area with random forest')"
   ]
  }
 ],
 "metadata": {
  "kernelspec": {
   "display_name": "Python 3 (ipykernel)",
   "language": "python",
   "name": "python3"
  },
  "language_info": {
   "codemirror_mode": {
    "name": "ipython",
    "version": 3
   },
   "file_extension": ".py",
   "mimetype": "text/x-python",
   "name": "python",
   "nbconvert_exporter": "python",
   "pygments_lexer": "ipython3",
   "version": "3.9.12"
  }
 },
 "nbformat": 4,
 "nbformat_minor": 5
}
